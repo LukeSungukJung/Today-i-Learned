{
 "cells": [
  {
   "cell_type": "code",
   "execution_count": 51,
   "id": "exclusive-baking",
   "metadata": {},
   "outputs": [],
   "source": [
    "import torch\n",
    "import torchvision\n",
    "from torchvision.datasets import MNIST"
   ]
  },
  {
   "cell_type": "code",
   "execution_count": 52,
   "id": "agricultural-residence",
   "metadata": {},
   "outputs": [],
   "source": [
    "dataset = MNIST(root='data/', download=True)"
   ]
  },
  {
   "cell_type": "code",
   "execution_count": 53,
   "id": "related-perfume",
   "metadata": {},
   "outputs": [
    {
     "data": {
      "text/plain": [
       "10000"
      ]
     },
     "execution_count": 53,
     "metadata": {},
     "output_type": "execute_result"
    }
   ],
   "source": [
    "len(dataset)\n",
    "test_dataset = MNIST(root='data/', train=False)\n",
    "len(test_dataset)"
   ]
  },
  {
   "cell_type": "code",
   "execution_count": 54,
   "id": "rotary-syria",
   "metadata": {},
   "outputs": [
    {
     "name": "stdout",
     "output_type": "stream",
     "text": [
      "Requirement already satisfied: matplotlib in /opt/conda/lib/python3.7/site-packages (3.3.4)\r\n",
      "Requirement already satisfied: kiwisolver>=1.0.1 in /opt/conda/lib/python3.7/site-packages (from matplotlib) (1.3.1)\r\n",
      "Requirement already satisfied: numpy>=1.15 in /opt/conda/lib/python3.7/site-packages (from matplotlib) (1.19.2)\r\n",
      "Requirement already satisfied: pyparsing!=2.0.4,!=2.1.2,!=2.1.6,>=2.0.3 in /opt/conda/lib/python3.7/site-packages (from matplotlib) (2.4.7)\r\n",
      "Requirement already satisfied: pillow>=6.2.0 in /opt/conda/lib/python3.7/site-packages (from matplotlib) (8.1.0)\r\n",
      "Requirement already satisfied: cycler>=0.10 in /opt/conda/lib/python3.7/site-packages (from matplotlib) (0.10.0)\r\n",
      "Requirement already satisfied: python-dateutil>=2.1 in /opt/conda/lib/python3.7/site-packages (from matplotlib) (2.8.1)\r\n",
      "Requirement already satisfied: six in /opt/conda/lib/python3.7/site-packages (from cycler>=0.10->matplotlib) (1.15.0)\r\n"
     ]
    }
   ],
   "source": [
    "!pip install matplotlib"
   ]
  },
  {
   "cell_type": "code",
   "execution_count": 55,
   "id": "maritime-treat",
   "metadata": {},
   "outputs": [],
   "source": [
    "import matplotlib.pyplot as plt\n",
    "%matplotlib inline"
   ]
  },
  {
   "cell_type": "code",
   "execution_count": 56,
   "id": "atmospheric-capture",
   "metadata": {},
   "outputs": [
    {
     "name": "stdout",
     "output_type": "stream",
     "text": [
      "Label: 5\n"
     ]
    },
    {
     "data": {
      "image/png": "[encoded data removed]",
      "text/plain": [
       "<Figure size 432x288 with 1 Axes>"
      ]
     },
     "metadata": {
      "needs_background": "light"
     },
     "output_type": "display_data"
    }
   ],
   "source": [
    "image, label = dataset[0]\n",
    "plt.imshow(image, cmap='gray')\n",
    "print('Label:', label)"
   ]
  },
  {
   "cell_type": "code",
   "execution_count": 57,
   "id": "internal-windows",
   "metadata": {},
   "outputs": [
    {
     "name": "stdout",
     "output_type": "stream",
     "text": [
      "Label: 3\n"
     ]
    },
    {
     "data": {
      "image/png": "[encoded data removed]",
      "text/plain": [
       "<Figure size 432x288 with 1 Axes>"
      ]
     },
     "metadata": {
      "needs_background": "light"
     },
     "output_type": "display_data"
    }
   ],
   "source": [
    "image, label = dataset[10]\n",
    "plt.imshow(image, cmap='gray')\n",
    "print('Label:', label)"
   ]
  },
  {
   "cell_type": "code",
   "execution_count": 58,
   "id": "active-portfolio",
   "metadata": {},
   "outputs": [],
   "source": [
    "import torchvision.transforms as transforms"
   ]
  },
  {
   "cell_type": "code",
   "execution_count": 59,
   "id": "expired-costume",
   "metadata": {},
   "outputs": [],
   "source": [
    "dataset = MNIST(root='data/', \n",
    "                train=True,\n",
    "                transform=transforms.ToTensor())"
   ]
  },
  {
   "cell_type": "code",
   "execution_count": 60,
   "id": "refined-charleston",
   "metadata": {},
   "outputs": [
    {
     "name": "stdout",
     "output_type": "stream",
     "text": [
      "torch.Size([1, 28, 28]) 5\n"
     ]
    }
   ],
   "source": [
    "img_tensor, label = dataset[0]\n",
    "print(img_tensor.shape, label)"
   ]
  },
  {
   "cell_type": "code",
   "execution_count": 61,
   "id": "appointed-bouquet",
   "metadata": {},
   "outputs": [
    {
     "name": "stdout",
     "output_type": "stream",
     "text": [
      "tensor([[0.0039, 0.6039, 0.9922, 0.3529, 0.0000],\n",
      "        [0.0000, 0.5451, 0.9922, 0.7451, 0.0078],\n",
      "        [0.0000, 0.0431, 0.7451, 0.9922, 0.2745],\n",
      "        [0.0000, 0.0000, 0.1373, 0.9451, 0.8824],\n",
      "        [0.0000, 0.0000, 0.0000, 0.3176, 0.9412]])\n",
      "tensor(1.) tensor(0.)\n"
     ]
    }
   ],
   "source": [
    "print(img_tensor[0,10:15,10:15])\n",
    "print(torch.max(img_tensor), torch.min(img_tensor))"
   ]
  },
  {
   "cell_type": "code",
   "execution_count": 62,
   "id": "material-subscriber",
   "metadata": {},
   "outputs": [
    {
     "data": {
      "image/png": "[encoded data removed]",
      "text/plain": [
       "<Figure size 432x288 with 1 Axes>"
      ]
     },
     "metadata": {
      "needs_background": "light"
     },
     "output_type": "display_data"
    }
   ],
   "source": [
    "plt.imshow(img_tensor[0,10:15,10:15], cmap='gray');"
   ]
  },
  {
   "cell_type": "code",
   "execution_count": 63,
   "id": "furnished-destiny",
   "metadata": {},
   "outputs": [
    {
     "data": {
      "text/plain": [
       "(50000, 10000)"
      ]
     },
     "execution_count": 63,
     "metadata": {},
     "output_type": "execute_result"
    }
   ],
   "source": [
    "from torch.utils.data import random_split\n",
    "\n",
    "train_ds, val_ds = random_split(dataset, [50000, 10000])\n",
    "len(train_ds), len(val_ds)"
   ]
  },
  {
   "cell_type": "code",
   "execution_count": 64,
   "id": "conservative-suffering",
   "metadata": {},
   "outputs": [],
   "source": [
    "from torch.utils.data import DataLoader\n",
    "\n",
    "batch_size = 128\n",
    "\n",
    "train_loader = DataLoader(train_ds, batch_size, shuffle=True)\n",
    "val_loader = DataLoader(val_ds, batch_size)"
   ]
  },
  {
   "cell_type": "code",
   "execution_count": 65,
   "id": "clear-illustration",
   "metadata": {},
   "outputs": [],
   "source": [
    "import torch.nn as nn\n",
    "\n",
    "input_size = 28*28\n",
    "num_classes = 10\n",
    "\n",
    "# Logistic regression model\n",
    "model = nn.Linear(input_size, num_classes)"
   ]
  },
  {
   "cell_type": "code",
   "execution_count": 66,
   "id": "normal-toddler",
   "metadata": {},
   "outputs": [
    {
     "name": "stdout",
     "output_type": "stream",
     "text": [
      "torch.Size([10, 784])\n"
     ]
    },
    {
     "data": {
      "text/plain": [
       "Parameter containing:\n",
       "tensor([[ 0.0300,  0.0290,  0.0113,  ..., -0.0157,  0.0215,  0.0335],\n",
       "        [ 0.0304,  0.0080, -0.0015,  ...,  0.0129, -0.0280,  0.0234],\n",
       "        [-0.0212, -0.0089,  0.0343,  ..., -0.0180,  0.0091, -0.0040],\n",
       "        ...,\n",
       "        [-0.0309,  0.0190, -0.0055,  ..., -0.0355,  0.0204, -0.0348],\n",
       "        [ 0.0138,  0.0039,  0.0123,  ..., -0.0260, -0.0148, -0.0255],\n",
       "        [ 0.0261, -0.0064, -0.0314,  ..., -0.0171, -0.0220,  0.0247]],\n",
       "       requires_grad=True)"
      ]
     },
     "execution_count": 66,
     "metadata": {},
     "output_type": "execute_result"
    }
   ],
   "source": [
    "print(model.weight.shape)\n",
    "model.weight"
   ]
  },
  {
   "cell_type": "code",
   "execution_count": 67,
   "id": "forbidden-genetics",
   "metadata": {},
   "outputs": [
    {
     "name": "stdout",
     "output_type": "stream",
     "text": [
      "torch.Size([10])\n"
     ]
    },
    {
     "data": {
      "text/plain": [
       "Parameter containing:\n",
       "tensor([-0.0236,  0.0302, -0.0232,  0.0098, -0.0037, -0.0255, -0.0061,  0.0342,\n",
       "        -0.0177, -0.0057], requires_grad=True)"
      ]
     },
     "execution_count": 67,
     "metadata": {},
     "output_type": "execute_result"
    }
   ],
   "source": [
    "print(model.bias.shape)\n",
    "model.bias"
   ]
  },
  {
   "cell_type": "code",
   "execution_count": 68,
   "id": "elegant-blues",
   "metadata": {},
   "outputs": [
    {
     "data": {
      "text/plain": [
       "torch.Size([128, 784])"
      ]
     },
     "execution_count": 68,
     "metadata": {},
     "output_type": "execute_result"
    }
   ],
   "source": [
    "images.reshape(128, 784).shape"
   ]
  },
  {
   "cell_type": "code",
   "execution_count": 70,
   "id": "offshore-harris",
   "metadata": {},
   "outputs": [],
   "source": [
    "class MnistModel(nn.Module):\n",
    "    def __init__(self):\n",
    "        super().__init__()\n",
    "        self.linear = nn.Linear(input_size, num_classes)\n",
    "        \n",
    "    def forward(self, xb):\n",
    "        xb = xb.reshape(-1, 784)\n",
    "        out = self.linear(xb)\n",
    "        return out\n",
    "    \n",
    "model = MnistModel()"
   ]
  },
  {
   "cell_type": "code",
   "execution_count": 71,
   "id": "subsequent-valuable",
   "metadata": {},
   "outputs": [
    {
     "data": {
      "text/plain": [
       "Linear(in_features=784, out_features=10, bias=True)"
      ]
     },
     "execution_count": 71,
     "metadata": {},
     "output_type": "execute_result"
    }
   ],
   "source": [
    "model.linear"
   ]
  },
  {
   "cell_type": "code",
   "execution_count": 72,
   "id": "skilled-interstate",
   "metadata": {},
   "outputs": [
    {
     "name": "stdout",
     "output_type": "stream",
     "text": [
      "torch.Size([10, 784]) torch.Size([10])\n"
     ]
    },
    {
     "data": {
      "text/plain": [
       "[Parameter containing:\n",
       " tensor([[-1.2135e-02, -1.0856e-02,  2.9431e-02,  ..., -1.1818e-02,\n",
       "           1.7103e-02, -3.2882e-02],\n",
       "         [ 5.3547e-03, -1.8924e-02, -7.2491e-03,  ..., -4.6865e-03,\n",
       "          -1.9693e-03, -1.8314e-02],\n",
       "         [ 2.2697e-05, -3.3160e-02,  2.8079e-02,  ...,  3.0965e-02,\n",
       "           2.5627e-02,  2.3085e-02],\n",
       "         ...,\n",
       "         [ 3.0963e-02, -2.1002e-02,  3.2456e-02,  ..., -4.0557e-03,\n",
       "           6.3679e-03, -1.1180e-02],\n",
       "         [ 2.4227e-02,  2.6682e-03, -8.0003e-03,  ..., -1.5365e-02,\n",
       "           1.6938e-02, -2.9480e-02],\n",
       "         [ 8.1626e-03, -1.3587e-02, -1.7932e-02,  ...,  6.9552e-03,\n",
       "           6.1472e-03,  1.4154e-02]], requires_grad=True),\n",
       " Parameter containing:\n",
       " tensor([-0.0109,  0.0299,  0.0257, -0.0033, -0.0211,  0.0092,  0.0306, -0.0228,\n",
       "         -0.0092,  0.0303], requires_grad=True)]"
      ]
     },
     "execution_count": 72,
     "metadata": {},
     "output_type": "execute_result"
    }
   ],
   "source": [
    "print(model.linear.weight.shape, model.linear.bias.shape)\n",
    "list(model.parameters())"
   ]
  },
  {
   "cell_type": "code",
   "execution_count": 73,
   "id": "fancy-fleet",
   "metadata": {},
   "outputs": [
    {
     "name": "stdout",
     "output_type": "stream",
     "text": [
      "torch.Size([128, 1, 28, 28])\n",
      "outputs.shape :  torch.Size([128, 10])\n",
      "Sample outputs :\n",
      " tensor([[-0.0494, -0.4735, -0.1853,  0.1019, -0.1024, -0.5496, -0.2200, -0.2135,\n",
      "         -0.0109,  0.4540],\n",
      "        [-0.2809, -0.0613,  0.0398, -0.1044, -0.1495, -0.3037, -0.1822, -0.2031,\n",
      "         -0.0590,  0.1467]])\n"
     ]
    }
   ],
   "source": [
    "for images, labels in train_loader:\n",
    "    print(images.shape)\n",
    "    outputs = model(images)\n",
    "    break\n",
    "\n",
    "print('outputs.shape : ', outputs.shape)\n",
    "print('Sample outputs :\\n', outputs[:2].data)"
   ]
  },
  {
   "cell_type": "code",
   "execution_count": 74,
   "id": "available-minnesota",
   "metadata": {},
   "outputs": [],
   "source": [
    "import torch.nn.functional as F"
   ]
  },
  {
   "cell_type": "code",
   "execution_count": 77,
   "id": "eleven-nirvana",
   "metadata": {},
   "outputs": [
    {
     "data": {
      "text/plain": [
       "tensor([[-0.0494, -0.4735, -0.1853,  0.1019, -0.1024, -0.5496, -0.2200, -0.2135,\n",
       "         -0.0109,  0.4540],\n",
       "        [-0.2809, -0.0613,  0.0398, -0.1044, -0.1495, -0.3037, -0.1822, -0.2031,\n",
       "         -0.0590,  0.1467]], grad_fn=<SliceBackward>)"
      ]
     },
     "execution_count": 77,
     "metadata": {},
     "output_type": "execute_result"
    }
   ],
   "source": [
    "outputs[:2]"
   ]
  },
  {
   "cell_type": "code",
   "execution_count": 79,
   "id": "dangerous-delaware",
   "metadata": {},
   "outputs": [
    {
     "name": "stdout",
     "output_type": "stream",
     "text": [
      "Sample probabilities:\n",
      " tensor([[0.1038, 0.0679, 0.0906, 0.1208, 0.0985, 0.0630, 0.0875, 0.0881, 0.1079,\n",
      "         0.1718],\n",
      "        [0.0840, 0.1047, 0.1158, 0.1002, 0.0958, 0.0821, 0.0927, 0.0908, 0.1049,\n",
      "         0.1289]])\n",
      "Sum:  1.0\n"
     ]
    }
   ],
   "source": [
    "# Apply softmax for each output row\n",
    "probs = F.softmax(outputs, dim=1)\n",
    "\n",
    "# Look at sample probabilities\n",
    "print(\"Sample probabilities:\\n\", probs[:2].data)\n",
    "\n",
    "# Add up the probabilities of an output row\n",
    "print(\"Sum: \", torch.sum(probs[2]).item())"
   ]
  },
  {
   "cell_type": "code",
   "execution_count": 87,
   "id": "collect-thriller",
   "metadata": {},
   "outputs": [
    {
     "name": "stdout",
     "output_type": "stream",
     "text": [
      "tensor([9, 9, 3, 8, 9, 9, 9, 3, 3, 8, 9, 9, 3, 9, 0, 3, 9, 8, 8, 8, 5, 0, 0, 0,\n",
      "        0, 3, 6, 0, 9, 8, 3, 9, 9, 9, 9, 9, 6, 9, 8, 2, 9, 0, 8, 8, 6, 9, 3, 0,\n",
      "        3, 8, 3, 9, 8, 3, 3, 3, 3, 0, 3, 3, 9, 0, 8, 9, 6, 8, 9, 9, 9, 3, 9, 8,\n",
      "        3, 9, 0, 9, 8, 8, 0, 9, 3, 9, 9, 0, 9, 8, 1, 8, 3, 9, 0, 3, 2, 3, 9, 9,\n",
      "        3, 3, 9, 2, 8, 9, 1, 9, 9, 9, 8, 9, 9, 9, 9, 5, 9, 8, 8, 9, 7, 3, 9, 0,\n",
      "        3, 9, 9, 9, 3, 9, 9, 9])\n",
      "tensor([0.1718, 0.1289, 0.1299, 0.1391, 0.1405, 0.1405, 0.1278, 0.1260, 0.1149,\n",
      "        0.1476, 0.1154, 0.1659, 0.1293, 0.1182, 0.1246, 0.1283, 0.1523, 0.1499,\n",
      "        0.1224, 0.1441, 0.1287, 0.1395, 0.1414, 0.1286, 0.1397, 0.1346, 0.1327,\n",
      "        0.1306, 0.1466, 0.1258, 0.1210, 0.1404, 0.1210, 0.1359, 0.1266, 0.1142,\n",
      "        0.1250, 0.1240, 0.1250, 0.1302, 0.1399, 0.1261, 0.1209, 0.1359, 0.1122,\n",
      "        0.1388, 0.1607, 0.1324, 0.1228, 0.1234, 0.1274, 0.1436, 0.1307, 0.1237,\n",
      "        0.1335, 0.1227, 0.1366, 0.1268, 0.1327, 0.1323, 0.1432, 0.1393, 0.1317,\n",
      "        0.1293, 0.1280, 0.1121, 0.1259, 0.1298, 0.1329, 0.1176, 0.1287, 0.1140,\n",
      "        0.1392, 0.1310, 0.1199, 0.1285, 0.1168, 0.1350, 0.1376, 0.1185, 0.1222,\n",
      "        0.1348, 0.1227, 0.1491, 0.1580, 0.1395, 0.1316, 0.1156, 0.1176, 0.1479,\n",
      "        0.1386, 0.1248, 0.1331, 0.1619, 0.1271, 0.1549, 0.1248, 0.1270, 0.1302,\n",
      "        0.1188, 0.1173, 0.1461, 0.1141, 0.1374, 0.1476, 0.1396, 0.1109, 0.1411,\n",
      "        0.1438, 0.1316, 0.1300, 0.1188, 0.1306, 0.1226, 0.1278, 0.1384, 0.1202,\n",
      "        0.1123, 0.1164, 0.1354, 0.1281, 0.1226, 0.1399, 0.1432, 0.1281, 0.1353,\n",
      "        0.1356, 0.1271], grad_fn=<MaxBackward0>)\n"
     ]
    }
   ],
   "source": [
    "max_probs, preds = torch.max(probs, dim=1)\n",
    "print(preds)\n",
    "print(max_probs)"
   ]
  },
  {
   "cell_type": "code",
   "execution_count": 97,
   "id": "younger-kentucky",
   "metadata": {},
   "outputs": [
    {
     "data": {
      "text/plain": [
       "torch.Size([128])"
      ]
     },
     "execution_count": 97,
     "metadata": {},
     "output_type": "execute_result"
    }
   ],
   "source": [
    "max_probs.shape"
   ]
  },
  {
   "cell_type": "code",
   "execution_count": 98,
   "id": "alternative-weather",
   "metadata": {},
   "outputs": [
    {
     "data": {
      "text/plain": [
       "torch.Size([128])"
      ]
     },
     "execution_count": 98,
     "metadata": {},
     "output_type": "execute_result"
    }
   ],
   "source": [
    "preds.shape"
   ]
  },
  {
   "cell_type": "code",
   "execution_count": 88,
   "id": "western-sterling",
   "metadata": {},
   "outputs": [
    {
     "data": {
      "text/plain": [
       "tensor([3, 5, 1, 8, 8, 7, 0, 3, 5, 9, 5, 9, 2, 1, 2, 2, 4, 2, 1, 0, 7, 2, 6, 6,\n",
       "        4, 4, 2, 4, 0, 7, 4, 5, 0, 9, 1, 7, 2, 8, 7, 6, 0, 0, 5, 5, 2, 5, 8, 0,\n",
       "        6, 7, 1, 7, 0, 3, 8, 4, 1, 4, 1, 4, 8, 0, 4, 7, 4, 6, 8, 7, 7, 4, 8, 6,\n",
       "        8, 8, 0, 1, 8, 7, 0, 1, 1, 3, 1, 9, 7, 2, 4, 5, 1, 4, 6, 1, 6, 2, 7, 5,\n",
       "        0, 3, 6, 5, 7, 5, 4, 9, 7, 5, 1, 5, 3, 7, 5, 9, 7, 1, 4, 0, 2, 4, 1, 5,\n",
       "        0, 3, 8, 5, 6, 5, 9, 0])"
      ]
     },
     "execution_count": 88,
     "metadata": {},
     "output_type": "execute_result"
    }
   ],
   "source": [
    "labels"
   ]
  },
  {
   "cell_type": "code",
   "execution_count": 90,
   "id": "bronze-private",
   "metadata": {},
   "outputs": [
    {
     "data": {
      "text/plain": [
       "tensor([[-0.0494, -0.4735, -0.1853,  0.1019, -0.1024, -0.5496, -0.2200, -0.2135,\n",
       "         -0.0109,  0.4540],\n",
       "        [-0.2809, -0.0613,  0.0398, -0.1044, -0.1495, -0.3037, -0.1822, -0.2031,\n",
       "         -0.0590,  0.1467]], grad_fn=<SliceBackward>)"
      ]
     },
     "execution_count": 90,
     "metadata": {},
     "output_type": "execute_result"
    }
   ],
   "source": [
    "outputs[:2]"
   ]
  },
  {
   "cell_type": "code",
   "execution_count": 91,
   "id": "heated-advice",
   "metadata": {},
   "outputs": [
    {
     "data": {
      "text/plain": [
       "tensor(14)"
      ]
     },
     "execution_count": 91,
     "metadata": {},
     "output_type": "execute_result"
    }
   ],
   "source": [
    "torch.sum(preds == labels)"
   ]
  },
  {
   "cell_type": "code",
   "execution_count": 92,
   "id": "distinguished-server",
   "metadata": {},
   "outputs": [],
   "source": [
    "def accuracy(outputs, labels):\n",
    "    _, preds = torch.max(outputs, dim=1)\n",
    "    return torch.tensor(torch.sum(preds == labels).item() / len(preds))"
   ]
  },
  {
   "cell_type": "code",
   "execution_count": 102,
   "id": "correct-track",
   "metadata": {},
   "outputs": [
    {
     "data": {
      "text/plain": [
       "tensor(0.1094)"
      ]
     },
     "execution_count": 102,
     "metadata": {},
     "output_type": "execute_result"
    }
   ],
   "source": [
    "accuracy(outputs, labels)"
   ]
  },
  {
   "cell_type": "code",
   "execution_count": 106,
   "id": "inappropriate-royal",
   "metadata": {},
   "outputs": [],
   "source": [
    "loss_fn = F.cross_entropy"
   ]
  },
  {
   "cell_type": "code",
   "execution_count": 107,
   "id": "dental-tourist",
   "metadata": {},
   "outputs": [
    {
     "name": "stdout",
     "output_type": "stream",
     "text": [
      "tensor(2.3500, grad_fn=<NllLossBackward>)\n"
     ]
    }
   ],
   "source": [
    "loss = loss_fn(outputs, labels)\n",
    "print(loss)"
   ]
  },
  {
   "cell_type": "code",
   "execution_count": 109,
   "id": "republican-earth",
   "metadata": {},
   "outputs": [],
   "source": [
    "def evaluate(model, val_loader):\n",
    "    outputs = [model.validation_step(batch) for batch in val_loader]\n",
    "    return model.validation_epoch_end(outputs)"
   ]
  },
  {
   "cell_type": "code",
   "execution_count": 110,
   "id": "stunning-washington",
   "metadata": {},
   "outputs": [],
   "source": [
    "class MnistModel(nn.Module):\n",
    "    def __init__(self):\n",
    "        super().__init__()\n",
    "        self.linear = nn.Linear(input_size, num_classes)\n",
    "        \n",
    "    def forward(self, xb):\n",
    "        xb = xb.reshape(-1, 784)\n",
    "        out = self.linear(xb)\n",
    "        return out\n",
    "    \n",
    "    def training_step(self, batch):\n",
    "        images, labels = batch \n",
    "        out = self(images)                  # Generate predictions\n",
    "        loss = F.cross_entropy(out, labels) # Calculate loss\n",
    "        return loss\n",
    "    \n",
    "    def validation_step(self, batch):\n",
    "        images, labels = batch \n",
    "        out = self(images)                    # Generate predictions\n",
    "        loss = F.cross_entropy(out, labels)   # Calculate loss\n",
    "        acc = accuracy(out, labels)           # Calculate accuracy\n",
    "        return {'val_loss': loss, 'val_acc': acc}\n",
    "        \n",
    "    def validation_epoch_end(self, outputs):\n",
    "        batch_losses = [x['val_loss'] for x in outputs]\n",
    "        epoch_loss = torch.stack(batch_losses).mean()   # Combine losses\n",
    "        batch_accs = [x['val_acc'] for x in outputs]\n",
    "        epoch_acc = torch.stack(batch_accs).mean()      # Combine accuracies\n",
    "        return {'val_loss': epoch_loss.item(), 'val_acc': epoch_acc.item()}\n",
    "    \n",
    "    def epoch_end(self, epoch, result):\n",
    "        print(\"Epoch [{}], val_loss: {:.4f}, val_acc: {:.4f}\".format(epoch, result['val_loss'], result['val_acc']))\n",
    "    \n",
    "model = MnistModel()"
   ]
  },
  {
   "cell_type": "code",
   "execution_count": 111,
   "id": "marked-husband",
   "metadata": {},
   "outputs": [
    {
     "data": {
      "text/plain": [
       "{'val_loss': 2.353299379348755, 'val_acc': 0.08742088824510574}"
      ]
     },
     "execution_count": 111,
     "metadata": {},
     "output_type": "execute_result"
    }
   ],
   "source": [
    "result0 = evaluate(model, val_loader)"
   ]
  },
  {
   "cell_type": "code",
   "execution_count": 108,
   "id": "contained-franchise",
   "metadata": {},
   "outputs": [],
   "source": [
    "def fit(epochs, lr, model, train_loader, val_loader, opt_func=torch.optim.SGD):\n",
    "    optimizer = opt_func(model.parameters(), lr)\n",
    "    history = [] # for recording epoch-wise results\n",
    "    \n",
    "    for epoch in range(epochs):\n",
    "        \n",
    "        # Training Phase \n",
    "        for batch in train_loader:\n",
    "            loss = model.training_step(batch)\n",
    "            loss.backward()\n",
    "            optimizer.step()\n",
    "            optimizer.zero_grad()\n",
    "        \n",
    "        # Validation phase\n",
    "        result = evaluate(model, val_loader)\n",
    "        model.epoch_end(epoch, result)\n",
    "        history.append(result)\n",
    "\n",
    "    return history"
   ]
  },
  {
   "cell_type": "code",
   "execution_count": 112,
   "id": "physical-essence",
   "metadata": {},
   "outputs": [
    {
     "name": "stderr",
     "output_type": "stream",
     "text": [
      "/opt/conda/lib/python3.7/site-packages/torch/autograd/__init__.py:132: UserWarning: CUDA initialization: The NVIDIA driver on your system is too old (found version 10010). Please update your GPU driver by downloading and installing a new version from the URL: http://www.nvidia.com/Download/index.aspx Alternatively, go to: https://pytorch.org to install a PyTorch version that has been compiled with your version of the CUDA driver. (Triggered internally at  /opt/conda/conda-bld/pytorch_1607370156314/work/c10/cuda/CUDAFunctions.cpp:100.)\n",
      "  allow_unreachable=True)  # allow_unreachable flag\n"
     ]
    },
    {
     "name": "stdout",
     "output_type": "stream",
     "text": [
      "Epoch [0], val_loss: 1.9689, val_acc: 0.6123\n",
      "Epoch [1], val_loss: 1.6961, val_acc: 0.7173\n",
      "Epoch [2], val_loss: 1.4929, val_acc: 0.7552\n",
      "Epoch [3], val_loss: 1.3394, val_acc: 0.7793\n",
      "Epoch [4], val_loss: 1.2214, val_acc: 0.7945\n"
     ]
    }
   ],
   "source": [
    "history1 = fit(5, 0.001, model, train_loader, val_loader)"
   ]
  },
  {
   "cell_type": "code",
   "execution_count": 118,
   "id": "apparent-skill",
   "metadata": {},
   "outputs": [
    {
     "data": {
      "text/plain": [
       "tensor(0.7734)"
      ]
     },
     "execution_count": 118,
     "metadata": {},
     "output_type": "execute_result"
    }
   ],
   "source": [
    "res = model.forward(images)\n",
    "accuracy(res,labels)"
   ]
  },
  {
   "cell_type": "code",
   "execution_count": 119,
   "id": "third-angola",
   "metadata": {},
   "outputs": [
    {
     "name": "stdout",
     "output_type": "stream",
     "text": [
      "Epoch [0], val_loss: 1.1285, val_acc: 0.8047\n",
      "Epoch [1], val_loss: 1.0540, val_acc: 0.8151\n",
      "Epoch [2], val_loss: 0.9928, val_acc: 0.8202\n",
      "Epoch [3], val_loss: 0.9420, val_acc: 0.8255\n",
      "Epoch [4], val_loss: 0.8989, val_acc: 0.8302\n",
      "Epoch [0], val_loss: 0.8622, val_acc: 0.8337\n",
      "Epoch [1], val_loss: 0.8302, val_acc: 0.8379\n",
      "Epoch [2], val_loss: 0.8022, val_acc: 0.8395\n",
      "Epoch [3], val_loss: 0.7775, val_acc: 0.8421\n",
      "Epoch [4], val_loss: 0.7555, val_acc: 0.8448\n",
      "Epoch [0], val_loss: 0.7358, val_acc: 0.8478\n",
      "Epoch [1], val_loss: 0.7179, val_acc: 0.8497\n",
      "Epoch [2], val_loss: 0.7018, val_acc: 0.8513\n",
      "Epoch [3], val_loss: 0.6871, val_acc: 0.8523\n",
      "Epoch [4], val_loss: 0.6735, val_acc: 0.8537\n",
      "Epoch [0], val_loss: 0.6611, val_acc: 0.8547\n",
      "Epoch [1], val_loss: 0.6496, val_acc: 0.8561\n",
      "Epoch [2], val_loss: 0.6390, val_acc: 0.8577\n",
      "Epoch [3], val_loss: 0.6290, val_acc: 0.8584\n",
      "Epoch [4], val_loss: 0.6198, val_acc: 0.8604\n"
     ]
    }
   ],
   "source": [
    "history1 = fit(5, 0.001, model, train_loader, val_loader)\n",
    "history2 = fit(5, 0.001, model, train_loader, val_loader)\n",
    "history3 = fit(5, 0.001, model, train_loader, val_loader)\n",
    "history4 = fit(5, 0.001, model, train_loader, val_loader)\n"
   ]
  },
  {
   "cell_type": "code",
   "execution_count": 120,
   "id": "hybrid-waterproof",
   "metadata": {},
   "outputs": [
    {
     "data": {
      "image/png": "[encoded data removed]",
      "text/plain": [
       "<Figure size 432x288 with 1 Axes>"
      ]
     },
     "metadata": {
      "needs_background": "light"
     },
     "output_type": "display_data"
    }
   ],
   "source": [
    "history = [result0] + history1 + history2 + history3 + history4\n",
    "accuracies = [result['val_acc'] for result in history]\n",
    "plt.plot(accuracies, '-x')\n",
    "plt.xlabel('epoch')\n",
    "plt.ylabel('accuracy')\n",
    "plt.title('Accuracy vs. No. of epochs');"
   ]
  },
  {
   "cell_type": "code",
   "execution_count": 121,
   "id": "nasty-things",
   "metadata": {},
   "outputs": [],
   "source": [
    "test_dataset = MNIST(root='data/', \n",
    "                     train=False,\n",
    "                     transform=transforms.ToTensor())"
   ]
  },
  {
   "cell_type": "code",
   "execution_count": 123,
   "id": "acoustic-practice",
   "metadata": {},
   "outputs": [
    {
     "name": "stdout",
     "output_type": "stream",
     "text": [
      "Shape: torch.Size([1, 28, 28])\n",
      "Label: 7\n"
     ]
    },
    {
     "data": {
      "image/png": "[encoded data removed]",
      "text/plain": [
       "<Figure size 432x288 with 1 Axes>"
      ]
     },
     "metadata": {
      "needs_background": "light"
     },
     "output_type": "display_data"
    }
   ],
   "source": [
    "img, label = test_dataset[0]\n",
    "plt.imshow(img[0], cmap='gray')\n",
    "print('Shape:', img.shape)\n",
    "print('Label:', label)"
   ]
  },
  {
   "cell_type": "code",
   "execution_count": 134,
   "id": "located-proportion",
   "metadata": {},
   "outputs": [],
   "source": [
    "def predict_image(img, model):\n",
    "    xb = img\n",
    "    yb = model(xb)\n",
    "    _, preds = torch.max(yb, dim=1)\n",
    "    return preds[0].item()"
   ]
  },
  {
   "cell_type": "code",
   "execution_count": 140,
   "id": "religious-shame",
   "metadata": {},
   "outputs": [
    {
     "name": "stdout",
     "output_type": "stream",
     "text": [
      "Label: 7 , Predicted: 7\n"
     ]
    },
    {
     "data": {
      "image/png": "[encoded data removed]",
      "text/plain": [
       "<Figure size 432x288 with 1 Axes>"
      ]
     },
     "metadata": {
      "needs_background": "light"
     },
     "output_type": "display_data"
    }
   ],
   "source": [
    "img, label = test_dataset[0]\n",
    "plt.imshow(img[0], cmap='gray')\n",
    "print('Label:', label, ', Predicted:', predict_image(img, model))"
   ]
  },
  {
   "cell_type": "code",
   "execution_count": 142,
   "id": "adapted-transcript",
   "metadata": {},
   "outputs": [
    {
     "name": "stdout",
     "output_type": "stream",
     "text": [
      "Label: 0 , Predicted: 0\n"
     ]
    },
    {
     "data": {
      "image/png": "[encoded data removed]",
      "text/plain": [
       "<Figure size 432x288 with 1 Axes>"
      ]
     },
     "metadata": {
      "needs_background": "light"
     },
     "output_type": "display_data"
    }
   ],
   "source": [
    "img, label = test_dataset[10]\n",
    "plt.imshow(img[0], cmap='gray')\n",
    "print('Label:', label, ', Predicted:', predict_image(img, model))"
   ]
  },
  {
   "cell_type": "code",
   "execution_count": 143,
   "id": "fancy-mortgage",
   "metadata": {},
   "outputs": [
    {
     "name": "stdout",
     "output_type": "stream",
     "text": [
      "Label: 9 , Predicted: 9\n"
     ]
    },
    {
     "data": {
      "image/png": "[encoded data removed]",
      "text/plain": [
       "<Figure size 432x288 with 1 Axes>"
      ]
     },
     "metadata": {
      "needs_background": "light"
     },
     "output_type": "display_data"
    }
   ],
   "source": [
    "img, label = test_dataset[193]\n",
    "plt.imshow(img[0], cmap='gray')\n",
    "print('Label:', label, ', Predicted:', predict_image(img, model))"
   ]
  },
  {
   "cell_type": "code",
   "execution_count": 144,
   "id": "liquid-korea",
   "metadata": {},
   "outputs": [
    {
     "data": {
      "text/plain": [
       "{'val_loss': 0.5898292064666748, 'val_acc': 0.866992175579071}"
      ]
     },
     "execution_count": 144,
     "metadata": {},
     "output_type": "execute_result"
    }
   ],
   "source": [
    "test_loader = DataLoader(test_dataset, batch_size=256)\n",
    "result = evaluate(model, test_loader)\n",
    "result"
   ]
  },
  {
   "cell_type": "code",
   "execution_count": 159,
   "id": "cleared-testimony",
   "metadata": {},
   "outputs": [
    {
     "data": {
      "text/plain": [
       "tensor([[-0.3387, -2.2464, -0.5987,  0.1278, -0.1105, -0.4244, -1.9663,  4.7669,\n",
       "         -0.3347,  1.5640]], grad_fn=<AddmmBackward>)"
      ]
     },
     "execution_count": 159,
     "metadata": {},
     "output_type": "execute_result"
    }
   ],
   "source": [
    "model.linear(test_dataset[0][0].reshape(-1,784))"
   ]
  },
  {
   "cell_type": "code",
   "execution_count": null,
   "id": "political-scanner",
   "metadata": {},
   "outputs": [],
   "source": []
  },
  {
   "cell_type": "code",
   "execution_count": null,
   "id": "following-investigation",
   "metadata": {},
   "outputs": [],
   "source": []
  }
 ],
 "metadata": {
  "kernelspec": {
   "display_name": "Python 3",
   "language": "python",
   "name": "python3"
  },
  "language_info": {
   "codemirror_mode": {
    "name": "ipython",
    "version": 3
   },
   "file_extension": ".py",
   "mimetype": "text/x-python",
   "name": "python",
   "nbconvert_exporter": "python",
   "pygments_lexer": "ipython3",
   "version": "3.7.9"
  }
 },
 "nbformat": 4,
 "nbformat_minor": 5
}
