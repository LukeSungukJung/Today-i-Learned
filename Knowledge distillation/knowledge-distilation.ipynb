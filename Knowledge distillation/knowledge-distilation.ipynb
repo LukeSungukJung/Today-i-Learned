{
 "cells": [
  {
   "cell_type": "code",
   "execution_count": 1,
   "metadata": {
    "_cell_guid": "b1076dfc-b9ad-4769-8c92-a6c4dae69d19",
    "_uuid": "8f2839f25d086af736a60e9eeb907d3b93b6e0e5",
    "tags": []
   },
   "outputs": [],
   "source": [
    "import torch\n",
    "import torch.nn as nn\n",
    "import torch.nn.functional as F\n",
    "import torch.optim as optim\n",
    "from torchvision import datasets,transforms\n",
    "import torchvision.models as models\n",
    "from torch.utils.data import DataLoader\n",
    "import time\n",
    "import os \n",
    "import copy\n",
    "from torchvision.transforms.functional import to_pil_image\n",
    "import matplotlib.pyplot as plt\n"
   ]
  },
  {
   "cell_type": "code",
   "execution_count": 2,
   "metadata": {
    "tags": []
   },
   "outputs": [],
   "source": [
    "def createFolder(directory):\n",
    "    try: \n",
    "        if not os.path.exists(directory):\n",
    "            os.makedirs(directory)\n",
    "    except OSerror:\n",
    "        print(\"Error\")\n",
    "createFolder('./data')"
   ]
  },
  {
   "cell_type": "code",
   "execution_count": 3,
   "metadata": {
    "tags": []
   },
   "outputs": [
    {
     "name": "stdout",
     "output_type": "stream",
     "text": [
      "Downloading http://yann.lecun.com/exdb/mnist/train-images-idx3-ubyte.gz\n",
      "Using downloaded and verified file: /content/data\\MNIST\\raw\\train-images-idx3-ubyte.gz\n",
      "Extracting /content/data\\MNIST\\raw\\train-images-idx3-ubyte.gz to /content/data\\MNIST\\raw\n",
      "\n",
      "Downloading http://yann.lecun.com/exdb/mnist/train-labels-idx1-ubyte.gz\n",
      "Using downloaded and verified file: /content/data\\MNIST\\raw\\train-labels-idx1-ubyte.gz\n",
      "Extracting /content/data\\MNIST\\raw\\train-labels-idx1-ubyte.gz to /content/data\\MNIST\\raw\n",
      "\n",
      "Downloading http://yann.lecun.com/exdb/mnist/t10k-images-idx3-ubyte.gz\n",
      "Downloading http://yann.lecun.com/exdb/mnist/t10k-images-idx3-ubyte.gz to /content/data\\MNIST\\raw\\t10k-images-idx3-ubyte.gz\n"
     ]
    },
    {
     "name": "stderr",
     "output_type": "stream",
     "text": [
      "100.0%\n"
     ]
    },
    {
     "name": "stdout",
     "output_type": "stream",
     "text": [
      "Extracting /content/data\\MNIST\\raw\\t10k-images-idx3-ubyte.gz to /content/data\\MNIST\\raw\n",
      "\n",
      "Downloading http://yann.lecun.com/exdb/mnist/t10k-labels-idx1-ubyte.gz\n",
      "Downloading http://yann.lecun.com/exdb/mnist/t10k-labels-idx1-ubyte.gz to /content/data\\MNIST\\raw\\t10k-labels-idx1-ubyte.gz\n"
     ]
    },
    {
     "name": "stderr",
     "output_type": "stream",
     "text": [
      "112.7%"
     ]
    },
    {
     "name": "stdout",
     "output_type": "stream",
     "text": [
      "Extracting /content/data\\MNIST\\raw\\t10k-labels-idx1-ubyte.gz to /content/data\\MNIST\\raw\n",
      "\n"
     ]
    },
    {
     "name": "stderr",
     "output_type": "stream",
     "text": [
      "\n"
     ]
    }
   ],
   "source": [
    "ds_transform = transforms.Compose([\n",
    "    transforms.ToTensor(),\n",
    "    transforms.Normalize((0.1307,),(0.3081,))\n",
    "])\n",
    "\n",
    "train_ds = datasets.MNIST('/content/data',train=True,download=True,transform=ds_transform)\n",
    "\n",
    "val_ds = datasets.MNIST('/content/data',train=False,download=True,transform=ds_transform)"
   ]
  },
  {
   "cell_type": "code",
   "execution_count": 4,
   "metadata": {
    "tags": []
   },
   "outputs": [],
   "source": [
    "train_dl = DataLoader(train_ds,batch_size=32,shuffle=True)\n",
    "val_dl = DataLoader(val_ds,batch_size =32,shuffle=True)"
   ]
  },
  {
   "cell_type": "code",
   "execution_count": 5,
   "metadata": {
    "tags": []
   },
   "outputs": [
    {
     "name": "stdout",
     "output_type": "stream",
     "text": [
      "torch.Size([32, 1, 28, 28]) torch.Size([32])\n"
     ]
    },
    {
     "data": {
      "image/png": "[encoded data removed]",
      "text/plain": [
       "<Figure size 1080x1080 with 4 Axes>"
      ]
     },
     "metadata": {
      "needs_background": "light"
     },
     "output_type": "display_data"
    }
   ],
   "source": [
    "for x,y in train_dl:\n",
    "    print(x.shape,y.shape)\n",
    "    break\n",
    "num=4\n",
    "imgs = x[:num]\n",
    "plt.figure(figsize=(15,15))\n",
    "for i in range(num):\n",
    "    plt.subplot(1,num+1,i+1)\n",
    "    plt.imshow(to_pil_image(0.1307*imgs[i]),cmap='gray')"
   ]
  },
  {
   "cell_type": "code",
   "execution_count": 6,
   "metadata": {
    "tags": []
   },
   "outputs": [],
   "source": [
    "class Teacher(nn.Module):\n",
    "    def __init__(self):\n",
    "        super().__init__()\n",
    "        self.fc1= nn.Linear(28*28,1024)\n",
    "        self.bn1 = nn.BatchNorm1d(1024)\n",
    "        self.fc2 = nn.Linear(1024,1024)\n",
    "        self.bn2 = nn.BatchNorm1d(1024)\n",
    "        self.fc3 = nn.Linear(1024,10)\n",
    "        \n",
    "    def forward(self,x):\n",
    "        x = x.view(-1,784)\n",
    "        x = F.relu(self.bn1(self.fc1(x)))\n",
    "        x = F.relu(self.bn2(self.fc2(x)))\n",
    "        x = self.fc3(x)\n",
    "        return x\n",
    "    \n",
    "        "
   ]
  },
  {
   "cell_type": "code",
   "execution_count": 7,
   "metadata": {
    "tags": []
   },
   "outputs": [
    {
     "name": "stdout",
     "output_type": "stream",
     "text": [
      "torch.Size([16, 10])\n"
     ]
    }
   ],
   "source": [
    "x = torch.randn(16,1,28,28)\n",
    "teacher = Teacher()\n",
    "output = teacher(x)\n",
    "print(output.shape)"
   ]
  },
  {
   "cell_type": "code",
   "execution_count": 8,
   "metadata": {
    "tags": []
   },
   "outputs": [
    {
     "data": {
      "text/plain": [
       "Teacher(\n",
       "  (fc1): Linear(in_features=784, out_features=1024, bias=True)\n",
       "  (bn1): BatchNorm1d(1024, eps=1e-05, momentum=0.1, affine=True, track_running_stats=True)\n",
       "  (fc2): Linear(in_features=1024, out_features=1024, bias=True)\n",
       "  (bn2): BatchNorm1d(1024, eps=1e-05, momentum=0.1, affine=True, track_running_stats=True)\n",
       "  (fc3): Linear(in_features=1024, out_features=10, bias=True)\n",
       ")"
      ]
     },
     "execution_count": 8,
     "metadata": {},
     "output_type": "execute_result"
    }
   ],
   "source": [
    "def initialize_weights(model):\n",
    "    classname = model.__class__.__name__\n",
    "    \n",
    "    if classname.find('Linear') != -1:\n",
    "        nn.init.normal_(model.weight.data,1.0,0.02)\n",
    "        nn.init.constant_(model.bias.data,0)\n",
    "    elif classname.find('BatchNorm') !=-1:\n",
    "        nn.init.normal_(model.weight.data,1.0,0.02)\n",
    "        nn.init.constant_(model.bias.data,0)\n",
    "        \n",
    "teacher.apply(initialize_weights)"
   ]
  },
  {
   "cell_type": "code",
   "execution_count": 9,
   "metadata": {
    "tags": []
   },
   "outputs": [],
   "source": [
    "loss_func = nn.CrossEntropyLoss()\n",
    "opt = optim.Adam(teacher.parameters())\n",
    "\n",
    "from torch.optim.lr_scheduler import ReduceLROnPlateau\n",
    "lr_scheduler = ReduceLROnPlateau(opt,mode='min',factor=0.1,patience= 3)\n",
    "\n",
    "def get_lr(opt):\n",
    "    for param_group in opt.param_groups:\n",
    "        return param_group['lr']\n",
    "def metric_batch(output,target):\n",
    "    pred = output.argmax(1, keepdim=True)\n",
    "    corrects = pred.eq(target.view_as(pred)).sum().item()\n",
    "    return corrects\n",
    "\n",
    "def loss_batch(loss_func, output, target, opt=None):\n",
    "    loss_b = loss_func(output, target)\n",
    "    metric_b = metric_batch(output, target)\n",
    "\n",
    "    if opt is not None:\n",
    "        opt.zero_grad()\n",
    "        loss_b.backward()\n",
    "        opt.step()\n",
    "    \n",
    "    return loss_b.item(), metric_b\n",
    "\n",
    "def loss_epoch(model, loss_func, dataset_dl, sanity_check=False, opt=None):\n",
    "    running_loss = 0.0\n",
    "    running_metric = 0.0\n",
    "    len_data = len(dataset_dl.dataset)\n",
    "\n",
    "    for xb, yb in dataset_dl:\n",
    "        output = model(xb)\n",
    "\n",
    "        loss_b, metric_b = loss_batch(loss_func, output, yb, opt)\n",
    "\n",
    "        running_loss += loss_b\n",
    "        \n",
    "        if metric_b is not None:\n",
    "            running_metric += metric_b\n",
    "\n",
    "        if sanity_check is True:\n",
    "            break\n",
    "\n",
    "    loss = running_loss / len_data\n",
    "    metric = running_metric / len_data\n",
    "    return loss, metric\n",
    "\n",
    "\n"
   ]
  },
  {
   "cell_type": "code",
   "execution_count": 10,
   "metadata": {
    "tags": []
   },
   "outputs": [],
   "source": [
    "# function to start training\n",
    "def train_val(model, params):\n",
    "    num_epochs=params['num_epochs']\n",
    "    loss_func=params['loss_func']\n",
    "    opt=params['optimizer']\n",
    "    train_dl=params['train_dl']\n",
    "    val_dl=params['val_dl']\n",
    "    sanity_check=params['sanity_check']\n",
    "    lr_scheduler=params['lr_scheduler']\n",
    "    path2weights=params['path2weights']\n",
    "\n",
    "    loss_history = {'train': [], 'val': []}\n",
    "    metric_history = {'train': [], 'val': []}\n",
    "\n",
    "    best_loss = float('inf')\n",
    "    best_model_wts = copy.deepcopy(model.state_dict())\n",
    "    start_time = time.time()\n",
    "\n",
    "    for epoch in range(num_epochs):\n",
    "        current_lr = get_lr(opt)\n",
    "        print('Epoch {}/{}, current lr= {}'.format(epoch, num_epochs-1, current_lr))\n",
    "\n",
    "        model.train()\n",
    "        train_loss, train_metric = loss_epoch(model, loss_func, train_dl, sanity_check, opt)\n",
    "        loss_history['train'].append(train_loss)\n",
    "        metric_history['train'].append(train_metric)\n",
    "\n",
    "        model.eval()\n",
    "        with torch.no_grad():\n",
    "            val_loss, val_metric = loss_epoch(model, loss_func, val_dl, sanity_check)\n",
    "        loss_history['val'].append(val_loss)\n",
    "        metric_history['val'].append(val_metric)\n",
    "\n",
    "        if val_loss < best_loss:\n",
    "            best_loss = val_loss\n",
    "            best_model_wts = copy.deepcopy(model.state_dict())\n",
    "            torch.save(model.state_dict(), path2weights)\n",
    "            print('Copied best model weights!')\n",
    "\n",
    "        lr_scheduler.step(val_loss)\n",
    "        if current_lr != get_lr(opt):\n",
    "            print('Loading best model weights!')\n",
    "            model.load_state_dict(best_model_wts)\n",
    "\n",
    "        print('train loss: %.6f, val loss: %.6f, accuracy: %.2f, time: %.4f min' %(train_loss, val_loss, 100*val_metric, (time.time()-start_time)/60))\n",
    "        print('-'*10)\n",
    "\n",
    "    model.load_state_dict(best_model_wts)\n",
    "    return model, loss_history, metric_history"
   ]
  },
  {
   "cell_type": "code",
   "execution_count": 11,
   "metadata": {
    "tags": []
   },
   "outputs": [],
   "source": [
    "params_train = {\n",
    "    'num_epochs':10,\n",
    "    'optimizer':opt,\n",
    "    'loss_func':loss_func,\n",
    "    'train_dl':train_dl,\n",
    "    'val_dl':val_dl,\n",
    "    'sanity_check':False,\n",
    "    'lr_scheduler':lr_scheduler,\n",
    "    'path2weights':'./models/teacher_weights.pt',\n",
    "}\n",
    "\n",
    "createFolder('./models')"
   ]
  },
  {
   "cell_type": "code",
   "execution_count": 12,
   "metadata": {
    "tags": []
   },
   "outputs": [
    {
     "name": "stdout",
     "output_type": "stream",
     "text": [
      "Epoch 0/9, current lr= 0.001\n",
      "Copied best model weights!\n",
      "train loss: 0.052358, val loss: 0.020611, accuracy: 79.88, time: 0.3854 min\n",
      "----------\n",
      "Epoch 1/9, current lr= 0.001\n",
      "Copied best model weights!\n",
      "train loss: 0.017786, val loss: 0.010561, accuracy: 89.56, time: 0.7666 min\n",
      "----------\n",
      "Epoch 2/9, current lr= 0.001\n",
      "Copied best model weights!\n",
      "train loss: 0.013508, val loss: 0.009237, accuracy: 91.01, time: 1.1507 min\n",
      "----------\n",
      "Epoch 3/9, current lr= 0.001\n",
      "Copied best model weights!\n",
      "train loss: 0.011618, val loss: 0.008557, accuracy: 91.40, time: 1.5322 min\n",
      "----------\n",
      "Epoch 4/9, current lr= 0.001\n",
      "Copied best model weights!\n",
      "train loss: 0.010640, val loss: 0.007323, accuracy: 92.89, time: 1.9118 min\n",
      "----------\n",
      "Epoch 5/9, current lr= 0.001\n",
      "Copied best model weights!\n",
      "train loss: 0.009630, val loss: 0.007218, accuracy: 93.36, time: 2.2967 min\n",
      "----------\n",
      "Epoch 6/9, current lr= 0.001\n",
      "Copied best model weights!\n",
      "train loss: 0.009048, val loss: 0.006492, accuracy: 93.65, time: 2.6853 min\n",
      "----------\n",
      "Epoch 7/9, current lr= 0.001\n",
      "train loss: 0.008500, val loss: 0.006529, accuracy: 93.65, time: 3.0715 min\n",
      "----------\n",
      "Epoch 8/9, current lr= 0.001\n",
      "Copied best model weights!\n",
      "train loss: 0.007871, val loss: 0.005860, accuracy: 94.24, time: 3.4626 min\n",
      "----------\n",
      "Epoch 9/9, current lr= 0.001\n",
      "Copied best model weights!\n",
      "train loss: 0.007448, val loss: 0.005610, accuracy: 94.30, time: 3.8483 min\n",
      "----------\n"
     ]
    }
   ],
   "source": [
    "teacher, loss_hist, metric_hist = train_val(teacher, params_train)"
   ]
  },
  {
   "cell_type": "code",
   "execution_count": 15,
   "metadata": {
    "tags": []
   },
   "outputs": [
    {
     "data": {
      "image/png": "[encoded data removed]",
      "text/plain": [
       "<Figure size 432x288 with 1 Axes>"
      ]
     },
     "metadata": {
      "needs_background": "light"
     },
     "output_type": "display_data"
    },
    {
     "data": {
      "image/png": "[encoded data removed]",
      "text/plain": [
       "<Figure size 432x288 with 1 Axes>"
      ]
     },
     "metadata": {
      "needs_background": "light"
     },
     "output_type": "display_data"
    }
   ],
   "source": [
    "num_epochs = params_train['num_epochs']\n",
    "\n",
    "# Plot train-val loss\n",
    "plt.title('Train-Val Loss')\n",
    "plt.plot(range(1, num_epochs+1), loss_hist['train'], label='train')\n",
    "plt.plot(range(1, num_epochs+1), loss_hist['val'], label='val')\n",
    "plt.ylabel('Loss')\n",
    "plt.xlabel('Training Epochs')\n",
    "plt.legend()\n",
    "plt.show()\n",
    "\n",
    "# plot train-val accuracy\n",
    "plt.title('Train-Val Accuracy')\n",
    "plt.plot(range(1, num_epochs+1), metric_hist['train'], label='train')\n",
    "plt.plot(range(1, num_epochs+1), metric_hist['val'], label='val')\n",
    "plt.ylabel('Accuracy')\n",
    "plt.xlabel('Training Epochs')\n",
    "plt.legend()\n",
    "plt.show()"
   ]
  },
  {
   "cell_type": "code",
   "execution_count": 16,
   "metadata": {
    "tags": []
   },
   "outputs": [],
   "source": [
    "class Student(nn.Module):\n",
    "    def __init__(self):\n",
    "        super().__init__()\n",
    "        self.fc1 = nn.Linear(28*28,512)\n",
    "        self.bn1 = nn.BatchNorm1d(512)\n",
    "        self.fc2 = nn.Linear(512,512)\n",
    "        self.bn2 = nn.BatchNorm1d(512)\n",
    "        self.fc3 = nn.Linear(512,10)\n",
    "\n",
    "    def forward(self, x):\n",
    "        x = x.view(-1, 28*28)\n",
    "        x = F.relu(self.bn1(self.fc1(x)))\n",
    "        x = F.relu(self.bn2(self.fc2(x)))\n",
    "        x = self.fc3(x)\n",
    "        return x"
   ]
  },
  {
   "cell_type": "code",
   "execution_count": 17,
   "metadata": {
    "tags": []
   },
   "outputs": [],
   "source": [
    "student = Student()\n",
    "student.apply(initialize_weights);"
   ]
  },
  {
   "cell_type": "code",
   "execution_count": 19,
   "metadata": {
    "tags": []
   },
   "outputs": [],
   "source": [
    "teacher = Teacher()\n",
    "teacher.load_state_dict(torch.load('./models/teacher_weights.pt'))\n",
    "\n",
    "student = Student()\n",
    "opt = optim.Adam(student.parameters())"
   ]
  },
  {
   "cell_type": "code",
   "execution_count": 20,
   "metadata": {
    "tags": []
   },
   "outputs": [],
   "source": [
    "# knowledge distillation loss\n",
    "def distillation(y, labels, teacher_scores, T, alpha):\n",
    "    # distillation loss + classification loss\n",
    "    # y: student\n",
    "    # labels: hard label\n",
    "    # teacher_scores: soft label\n",
    "    return nn.KLDivLoss()(F.log_softmax(y/T), F.softmax(teacher_scores/T)) * (T*T*alpha) + F.cross_entropy(y,labels) * (1.-alpha)\n",
    "\n",
    "# val loss\n",
    "loss_func = nn.CrossEntropyLoss()"
   ]
  },
  {
   "cell_type": "code",
   "execution_count": 22,
   "metadata": {},
   "outputs": [],
   "source": [
    "def distill_loss_batch(output, target, teacher_output, loss_fn=distillation, opt=opt):\n",
    "    loss_b = loss_fn(output, target, teacher_output, T=20.0, alpha=0.7)\n",
    "    metric_b = metric_batch(output, target)\n",
    "\n",
    "    if opt is not None:\n",
    "        opt.zero_grad()\n",
    "        loss_b.backward()\n",
    "        opt.step()\n",
    "\n",
    "    return loss_b.item(), metric_b"
   ]
  },
  {
   "cell_type": "code",
   "execution_count": 23,
   "metadata": {},
   "outputs": [
    {
     "name": "stdout",
     "output_type": "stream",
     "text": [
      "Epoch 0/9, current lr= 0.001\n"
     ]
    },
    {
     "name": "stderr",
     "output_type": "stream",
     "text": [
      "C:\\Users\\ADMINI~1\\AppData\\Local\\Temp/ipykernel_13064/3873489039.py:7: UserWarning: Implicit dimension choice for log_softmax has been deprecated. Change the call to include dim=X as an argument.\n",
      "  return nn.KLDivLoss()(F.log_softmax(y/T), F.softmax(teacher_scores/T)) * (T*T*alpha) + F.cross_entropy(y,labels) * (1.-alpha)\n",
      "C:\\Users\\ADMINI~1\\AppData\\Local\\Temp/ipykernel_13064/3873489039.py:7: UserWarning: Implicit dimension choice for softmax has been deprecated. Change the call to include dim=X as an argument.\n",
      "  return nn.KLDivLoss()(F.log_softmax(y/T), F.softmax(teacher_scores/T)) * (T*T*alpha) + F.cross_entropy(y,labels) * (1.-alpha)\n",
      "C:\\ProgramData\\Anaconda3\\envs\\torchcuda\\lib\\site-packages\\torch\\nn\\functional.py:2747: UserWarning: reduction: 'mean' divides the total loss by both the batch size and the support size.'batchmean' divides only by the batch size, and aligns with the KL div math definition.'mean' will be changed to behave the same as 'batchmean' in the next major release.\n",
      "  warnings.warn(\n"
     ]
    },
    {
     "name": "stdout",
     "output_type": "stream",
     "text": [
      "train loss: 0.003175, val loss: 0.003510, accuracy: 96.74, time: 0.2747 min\n",
      "----------\n",
      "Epoch 1/9, current lr= 0.001\n",
      "train loss: 0.001966, val loss: 0.002952, accuracy: 97.28, time: 0.5517 min\n",
      "----------\n",
      "Epoch 2/9, current lr= 0.001\n",
      "train loss: 0.001726, val loss: 0.002918, accuracy: 97.35, time: 0.8299 min\n",
      "----------\n",
      "Epoch 3/9, current lr= 0.001\n",
      "train loss: 0.001561, val loss: 0.002700, accuracy: 97.54, time: 1.1024 min\n",
      "----------\n",
      "Epoch 4/9, current lr= 0.001\n",
      "train loss: 0.001418, val loss: 0.002618, accuracy: 97.59, time: 1.3757 min\n",
      "----------\n",
      "Epoch 5/9, current lr= 0.001\n",
      "train loss: 0.001321, val loss: 0.002383, accuracy: 97.88, time: 1.6496 min\n",
      "----------\n",
      "Epoch 6/9, current lr= 0.001\n",
      "train loss: 0.001218, val loss: 0.002374, accuracy: 97.86, time: 1.9309 min\n",
      "----------\n",
      "Epoch 7/9, current lr= 0.001\n",
      "train loss: 0.001154, val loss: 0.002237, accuracy: 97.89, time: 2.2081 min\n",
      "----------\n",
      "Epoch 8/9, current lr= 0.001\n",
      "train loss: 0.001120, val loss: 0.002223, accuracy: 98.06, time: 2.4856 min\n",
      "----------\n",
      "Epoch 9/9, current lr= 0.001\n",
      "train loss: 0.001065, val loss: 0.002258, accuracy: 98.02, time: 2.7638 min\n",
      "----------\n"
     ]
    }
   ],
   "source": [
    "num_epochs= 10\n",
    "\n",
    "loss_history = {'train': [], 'val': []}\n",
    "metric_history = {'train': [], 'val': []}\n",
    "\n",
    "best_loss = float('inf')\n",
    "start_time = time.time()\n",
    "\n",
    "for epoch in range(num_epochs):\n",
    "    current_lr = get_lr(opt)\n",
    "    print('Epoch {}/{}, current lr= {}'.format(epoch, num_epochs-1, current_lr))\n",
    "\n",
    "    # train\n",
    "    student.train()\n",
    "\n",
    "    running_loss = 0.0\n",
    "    running_metric = 0.0\n",
    "    len_data = len(train_dl.dataset)\n",
    "\n",
    "    for xb, yb in train_dl:\n",
    "        xb = xb\n",
    "        yb = yb\n",
    "\n",
    "        output = student(xb)\n",
    "        teacher_output = teacher(xb).detach()\n",
    "        loss_b, metric_b = distill_loss_batch(output, yb, teacher_output, loss_fn=distillation, opt=opt)\n",
    "        running_loss += loss_b\n",
    "        running_metric_b = metric_b\n",
    "    train_loss = running_loss / len_data\n",
    "    train_metric = running_metric / len_data\n",
    "\n",
    "    loss_history['train'].append(train_loss)\n",
    "    metric_history['train'].append(train_metric)\n",
    "\n",
    "    # validation\n",
    "    student.eval()\n",
    "    with torch.no_grad():\n",
    "        val_loss, val_metric = loss_epoch(student, loss_func, val_dl)\n",
    "    loss_history['val'].append(val_loss)\n",
    "    metric_history['val'].append(val_metric)\n",
    "\n",
    "\n",
    "    lr_scheduler.step(val_loss)\n",
    "\n",
    "    print('train loss: %.6f, val loss: %.6f, accuracy: %.2f, time: %.4f min' %(train_loss, val_loss, 100*val_metric, (time.time()-start_time)/60))\n",
    "    print('-'*10)"
   ]
  },
  {
   "cell_type": "code",
   "execution_count": 24,
   "metadata": {},
   "outputs": [
    {
     "data": {
      "image/png": "[encoded data removed]",
      "text/plain": [
       "<Figure size 432x288 with 1 Axes>"
      ]
     },
     "metadata": {
      "needs_background": "light"
     },
     "output_type": "display_data"
    },
    {
     "data": {
      "image/png": "[encoded data removed]",
      "text/plain": [
       "<Figure size 432x288 with 1 Axes>"
      ]
     },
     "metadata": {
      "needs_background": "light"
     },
     "output_type": "display_data"
    }
   ],
   "source": [
    "plt.title('Train-Val Loss')\n",
    "plt.plot(range(1, num_epochs+1), loss_hist['train'], label='train')\n",
    "plt.plot(range(1, num_epochs+1), loss_hist['val'], label='val')\n",
    "plt.ylabel('Loss')\n",
    "plt.xlabel('Training Epochs')\n",
    "plt.legend()\n",
    "plt.show()\n",
    "\n",
    "# plot train-val accuracy\n",
    "plt.title('Train-Val Accuracy')\n",
    "plt.plot(range(1, num_epochs+1), metric_hist['train'], label='train')\n",
    "plt.plot(range(1, num_epochs+1), metric_hist['val'], label='val')\n",
    "plt.ylabel('Accuracy')\n",
    "plt.xlabel('Training Epochs')\n",
    "plt.legend()\n",
    "plt.show()"
   ]
  },
  {
   "cell_type": "code",
   "execution_count": null,
   "metadata": {},
   "outputs": [],
   "source": []
  }
 ],
 "metadata": {
  "kernelspec": {
   "display_name": "Python 3 (ipykernel)",
   "language": "python",
   "name": "python3"
  },
  "language_info": {
   "codemirror_mode": {
    "name": "ipython",
    "version": 3
   },
   "file_extension": ".py",
   "mimetype": "text/x-python",
   "name": "python",
   "nbconvert_exporter": "python",
   "pygments_lexer": "ipython3",
   "version": "3.9.7"
  }
 },
 "nbformat": 4,
 "nbformat_minor": 4
}
